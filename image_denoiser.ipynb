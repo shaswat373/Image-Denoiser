{
  "nbformat": 4,
  "nbformat_minor": 0,
  "metadata": {
    "colab": {
      "provenance": []
    },
    "kernelspec": {
      "name": "python3",
      "display_name": "Python 3"
    },
    "language_info": {
      "name": "python"
    }
  },
  "cells": [
    {
      "cell_type": "code",
      "source": [
        "# Setup\n",
        "import numpy as np\n",
        "import matplotlib.pyplot as plt\n",
        "import tensorflow as tf\n",
        "from tensorflow.keras.models import load_model\n",
        "from PIL import Image\n",
        "import io\n",
        "from google.colab import files\n",
        "import urllib.request\n",
        "import os\n",
        "\n",
        "# Loading model\n",
        "model_url = \"https://github.com/shaswat373/Image-Denoiser/raw/main/denoiser_model.h5\"\n",
        "model_path = \"denoiser_model.h5\"\n",
        "\n",
        "if not os.path.exists(model_path):\n",
        "    print(\"Downloading model from GitHub...\")\n",
        "    urllib.request.urlretrieve(model_url, model_path)\n",
        "    print(\"Model downloaded.\")\n",
        "model = load_model(model_path, compile=False)\n",
        "print(\"✅ Model loaded successfully.\")\n",
        "\n",
        "# Image Upload\n",
        "print(\"📤 Please upload a noisy RGB image (32x32)...\")\n",
        "uploaded = files.upload()\n",
        "\n",
        "for filename in uploaded:\n",
        "    # Load and process the image\n",
        "    image = Image.open(io.BytesIO(uploaded[filename])).convert('RGB')\n",
        "    image = image.resize((32, 32))\n",
        "    noisy_img = np.array(image).astype('float32') / 255.0\n",
        "    noisy_img = noisy_img.reshape(1, 32, 32, 3)\n",
        "    denoised_img = model.predict(noisy_img)[0]\n",
        "\n",
        "    # Display\n",
        "    plt.figure(figsize=(8, 4))\n",
        "\n",
        "    # Noisy input\n",
        "    plt.subplot(1, 2, 1)\n",
        "    plt.imshow(noisy_img[0])\n",
        "    plt.title(\"Noisy Input\")\n",
        "    plt.axis('off')\n",
        "\n",
        "    # Denoised output\n",
        "    plt.subplot(1, 2, 2)\n",
        "    plt.imshow(denoised_img)\n",
        "    plt.title(\"Denoised Output\")\n",
        "    plt.axis('off')\n",
        "\n",
        "    plt.tight_layout()\n",
        "    plt.show()\n"
      ],
      "metadata": {
        "id": "gwdJlfem5C2a"
      },
      "execution_count": null,
      "outputs": []
    }
  ]
}